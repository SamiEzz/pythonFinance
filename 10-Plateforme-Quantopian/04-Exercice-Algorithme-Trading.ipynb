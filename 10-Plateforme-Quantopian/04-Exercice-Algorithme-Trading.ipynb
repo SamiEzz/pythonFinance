{
 "cells": [
  {
   "cell_type": "markdown",
   "metadata": {},
   "source": [
    "# Exercice Algorithme Trading\n",
    "**Il s'agit d'un exercice extrêmement ouvert et il existe de nombreuses façons de le faire ! N'hésitez pas à passer directement aux solutions pour le traiter comme un exemple de code. Si vous tentez l'exercice, ne vous attendez pas à ce que l'exemple de solution corresponde exactement à votre solution. Vous avez peut-être obtenu de bien meilleurs résultats (ou de bien moins bons résultats !) !**\n",
    "\n",
    "## Votre Tâche\n",
    "\n",
    "Votre responsable veut savoir si [les Bandes de Bollinger](https://fr.wikipedia.org/wiki/Bandes_de_Bollinger) sont toujours une stratégie d'analyse technique significative à eux seuls. Pour cet exercice, vous allez tester sur l'action *Johnson et Johnson* sid(4151). Plus précisément, votre gestionnaire a décidé qu'il veut que 100 % du portefeuille soit en position longue lorsque le prix de l'action est inférieur à 2 fois l'écart-type glissant sur 20 jours soustrait de la moyenne mobile sur 20 jours, et qu'il soit en position courte à 100 % du portefeuille sur cette action lorsque le prix actuel est supérieur à 2 fois l'écart-type glissant sur 20 jours ajouté à la moyenne mobile sur 20 jours. La vérification de cet événement signal ne doit avoir lieu qu'une fois par jour. C'est probablement une stratégie très déraisonnable, mais le point essentiel est d'exercer votre capacité à écrire des algorithmes de backtest avec Quantopian.\n",
    "\n",
    "## Fenêtre de Temps\n",
    "\n",
    "Vous devriez utiliser le calendrier suivant pour cet exercice (afin d'avoir au moins une comparaison raisonnable avec les solutions, mais n'hésitez pas à vous amuser avec ça !) - N'oubliez pas, peu importe les dates, on est en phase d'apprentissage :)\n",
    "\n",
    "#### BACKTEST START:  Jul-20-2014\n",
    "#### BACKTEST END: Jul-20-2017"
   ]
  }
 ],
 "metadata": {
  "anaconda-cloud": {},
  "kernelspec": {
   "display_name": "Python 3.5",
   "language": "python",
   "name": "py35"
  },
  "language_info": {
   "codemirror_mode": {
    "name": "ipython",
    "version": 3
   },
   "file_extension": ".py",
   "mimetype": "text/x-python",
   "name": "python",
   "nbconvert_exporter": "python",
   "pygments_lexer": "ipython3",
   "version": "3.5.9"
  }
 },
 "nbformat": 4,
 "nbformat_minor": 1
}
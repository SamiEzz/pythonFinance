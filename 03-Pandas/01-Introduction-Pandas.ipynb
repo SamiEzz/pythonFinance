{
 "cells": [
  {
   "cell_type": "markdown",
   "metadata": {
    "collapsed": true
   },
   "source": [
    "# Introduction à Pandas\n",
    "\n",
    "Dans cette section du cours, nous apprendrons comment utiliser pandas pour l'analyse des données. Vous pouvez considérer pandas comme une version extrêmement puissante d'Excel, avec beaucoup plus de fonctionnalités. Dans cette section du cours, vous devriez passer en revue les notebooks dans cet ordre :\n",
    "\n",
    "* Introduction à Pandas\n",
    "* Series\n",
    "* DataFrames\n",
    "* Données manquantes\n",
    "* GroupBy\n",
    "* Merge, Join et Concat\n",
    "* Opérations\n",
    "* Data Input et Output"
   ]
  }
 ],
 "metadata": {
  "kernelspec": {
   "display_name": "Python 3",
   "language": "python",
   "name": "python3"
  },
  "language_info": {
   "codemirror_mode": {
    "name": "ipython",
    "version": 3
   },
   "file_extension": ".py",
   "mimetype": "text/x-python",
   "name": "python",
   "nbconvert_exporter": "python",
   "pygments_lexer": "ipython3",
   "version": "3.7.5"
  }
 },
 "nbformat": 4,
 "nbformat_minor": 1
}
